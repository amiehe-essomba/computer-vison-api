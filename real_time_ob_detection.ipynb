{
 "cells": [
  {
   "cell_type": "markdown",
   "metadata": {},
   "source": [
    "# <!-- TITLE --> __``` REAL-TIME OBJECT DETECTION ```__\n",
    "#### <!-- AUTHOR --> - Author : __Dr. Amiehe-Essomba__ (c) 2023\n"
   ]
  },
  {
   "cell_type": "markdown",
   "metadata": {},
   "source": [
    "## __```This notebook is only used for video prediction```__\n",
    "\n",
    "\n",
    "> For video predictions please go [here](https://vision-api.streamlit.app/)"
   ]
  },
  {
   "cell_type": "code",
   "execution_count": 1,
   "metadata": {},
   "outputs": [],
   "source": [
    "from yolo.utils.tools import read_classes, read_anchors\n",
    "import pandas as pd \n",
    "import seaborn as sns\n",
    "from yolo.utils.tools import get_colors_for_classes\n",
    "import random\n",
    "import matplotlib.colors as mcolors\n",
    "from random import sample\n",
    "import numpy as np \n",
    "from demo.encapsulation import Wrapper \n",
    "from demo.demo import demo\n",
    "\n",
    "import matplotlib.pyplot as plt\n",
    "%matplotlib inline"
   ]
  },
  {
   "cell_type": "code",
   "execution_count": 2,
   "metadata": {},
   "outputs": [],
   "source": [
    "np.random.seed(3)"
   ]
  },
  {
   "cell_type": "markdown",
   "metadata": {},
   "source": [
    "#### __```Video Path and model type```__"
   ]
  },
  {
   "cell_type": "code",
   "execution_count": 3,
   "metadata": {},
   "outputs": [],
   "source": [
    "path        = \"./video/yolo_video2.mp4\"\n",
    "model_name  = \"yolov8n.pt\""
   ]
  },
  {
   "cell_type": "markdown",
   "metadata": {},
   "source": [
    "#### __```Reading all classes and anchors```__"
   ]
  },
  {
   "cell_type": "code",
   "execution_count": 5,
   "metadata": {},
   "outputs": [],
   "source": [
    "Class_names         = read_classes()\n",
    "anchors             = read_anchors()"
   ]
  },
  {
   "cell_type": "markdown",
   "metadata": {},
   "source": [
    "#### __```Hyper Parameters. You can change them```__"
   ]
  },
  {
   "cell_type": "code",
   "execution_count": 6,
   "metadata": {},
   "outputs": [],
   "source": [
    "classes         = []\n",
    "max_boxes       = 20\n",
    "class_names     = []\n",
    "score_threshold = 0.2\n",
    "iou_threshold   = 0.2\n",
    "response        = False\n",
    "tracking        = False\n",
    "tracker_type    = (\"bytetrack.yaml\", \"botsort.yaml\")\n"
   ]
  },
  {
   "cell_type": "markdown",
   "metadata": {},
   "source": [
    "#### __```Do not change this part of notebook.```__"
   ]
  },
  {
   "cell_type": "code",
   "execution_count": 7,
   "metadata": {},
   "outputs": [],
   "source": [
    "if class_names: pass \n",
    "else: class_names = Class_names.copy()\n",
    "\n",
    "kwargs = {\n",
    "    \"class_names\"       : Class_names, \n",
    "    \"Class_names\"       : Class_names,\n",
    "    \"max_boxes\"         : max_boxes,\n",
    "    \"score_threshold\"   : score_threshold,\n",
    "    \"iou_threshold\"     : iou_threshold,\n",
    "    \"anchors\"           : anchors\n",
    "    }"
   ]
  },
  {
   "cell_type": "markdown",
   "metadata": {},
   "source": [
    "#### __```Set color boxes. Do not change anything here```__"
   ]
  },
  {
   "cell_type": "code",
   "execution_count": 8,
   "metadata": {},
   "outputs": [],
   "source": [
    "class_names = kwargs['Class_names']\n",
    "colors_     = get_colors_for_classes(len(class_names) + 10)\n",
    "\n",
    "def f():\n",
    "    s = random.sample(range(50), 1)\n",
    "    return s[0] \n",
    "\n",
    "def g():\n",
    "    num = random.sample(range(len(colors_)), len(class_names))\n",
    "    return num \n",
    "\n",
    "colors      = {class_names[j] : colors_[i] if colors_[i] != (255, 255, 0) else colors_[j-1] for j, i in enumerate(g())}"
   ]
  },
  {
   "cell_type": "markdown",
   "metadata": {},
   "source": [
    "### __```Parameters```__"
   ]
  },
  {
   "cell_type": "code",
   "execution_count": 9,
   "metadata": {},
   "outputs": [],
   "source": [
    "model               = demo(model_name=model_name)\n",
    "model.PATH          = path \n",
    "model.colors        = colors\n",
    "model.model_name    = model_name\n",
    "model.response      = response\n",
    "model.youtube       = False \n",
    "model.save_file     = \"video_prediction.mp4\"\n",
    "\n",
    "if tracking is True:\n",
    "    model.tracker = tracker_type[0]"
   ]
  },
  {
   "cell_type": "markdown",
   "metadata": {},
   "source": [
    "### __```About Video```__"
   ]
  },
  {
   "cell_type": "code",
   "execution_count": 10,
   "metadata": {},
   "outputs": [
    {
     "name": "stdout",
     "output_type": "stream",
     "text": [
      "video details : \n",
      "\n",
      "\n",
      ">>>>>>>>>>>>>>>>>>>>>>>>>>>>>>>>>>>>\n",
      "frame per second : 30.0\n",
      "video frame : 313\n",
      "duration : 10.4333\n",
      ">>>>>>>>>>>>>>>>>>>>>>>>>>>>>>>>>>>>\n"
     ]
    }
   ],
   "source": [
    "model.get_vido_info()"
   ]
  },
  {
   "cell_type": "code",
   "execution_count": 11,
   "metadata": {},
   "outputs": [],
   "source": [
    "model.duration_in_second = 10\n",
    "model.video_step = 1\n",
    "model.video_start = 0"
   ]
  },
  {
   "cell_type": "markdown",
   "metadata": {},
   "source": [
    "### __```Prediction```__"
   ]
  },
  {
   "cell_type": "code",
   "execution_count": null,
   "metadata": {},
   "outputs": [],
   "source": [
    "Video_data = model.build_model(**kwargs)"
   ]
  },
  {
   "cell_type": "markdown",
   "metadata": {},
   "source": [
    "#### __```Using the dictionary generated by the prediction to see all classes include in the predicted image```__\n",
    "----"
   ]
  },
  {
   "cell_type": "code",
   "execution_count": 13,
   "metadata": {},
   "outputs": [],
   "source": [
    "df          = model.df\n",
    "data_frame  = pd.DataFrame(df)\n",
    "data_frame.rename(columns={'label':'classes'}, inplace=True)\n",
    "data_frame['label'] = [1 for i in range(len(data_frame.iloc[:, 0]))]\n"
   ]
  },
  {
   "cell_type": "markdown",
   "metadata": {},
   "source": [
    "#### __```Classes countplot```__"
   ]
  },
  {
   "cell_type": "code",
   "execution_count": 14,
   "metadata": {},
   "outputs": [
    {
     "name": "stdout",
     "output_type": "stream",
     "text": [
      "unique classes : 10\n"
     ]
    }
   ],
   "source": [
    "# colors\n",
    "python_colors   = np.array( list( mcolors.CSS4_COLORS.keys() ) )\n",
    "length          = len(set(df['label']))\n",
    "indexes         = sample(range(python_colors.shape[0]), k=length)\n",
    "unique_color    = list( python_colors[indexes] )\n",
    "print(f\"unique classes : {length}\")\n"
   ]
  },
  {
   "cell_type": "code",
   "execution_count": 17,
   "metadata": {},
   "outputs": [
    {
     "data": {
      "image/png": "[encoded data removed]",
      "text/plain": [
       "<Figure size 800x400 with 1 Axes>"
      ]
     },
     "metadata": {},
     "output_type": "display_data"
    }
   ],
   "source": [
    "plt.figure(figsize=(8,4))\n",
    "sns.countplot(data=data_frame, x='classes', palette=unique_color, hue='classes', width=0.5)\n",
    "plt.show()"
   ]
  },
  {
   "cell_type": "markdown",
   "metadata": {},
   "source": [
    "#### __```Data Frame details:```__\n",
    "\n",
    "* classes\n",
    "* scores\n",
    "* bonding boxes \n",
    "* encoding classses"
   ]
  },
  {
   "cell_type": "code",
   "execution_count": 16,
   "metadata": {},
   "outputs": [
    {
     "data": {
      "text/html": [
       "<div>\n",
       "<style scoped>\n",
       "    .dataframe tbody tr th:only-of-type {\n",
       "        vertical-align: middle;\n",
       "    }\n",
       "\n",
       "    .dataframe tbody tr th {\n",
       "        vertical-align: top;\n",
       "    }\n",
       "\n",
       "    .dataframe thead th {\n",
       "        text-align: right;\n",
       "    }\n",
       "</style>\n",
       "<table border=\"1\" class=\"dataframe\">\n",
       "  <thead>\n",
       "    <tr style=\"text-align: right;\">\n",
       "      <th></th>\n",
       "      <th>classes</th>\n",
       "      <th>score</th>\n",
       "      <th>top</th>\n",
       "      <th>left</th>\n",
       "      <th>bottom</th>\n",
       "      <th>right</th>\n",
       "      <th>label</th>\n",
       "    </tr>\n",
       "  </thead>\n",
       "  <tbody>\n",
       "    <tr>\n",
       "      <th>2259</th>\n",
       "      <td>person</td>\n",
       "      <td>0.71</td>\n",
       "      <td>0.230000</td>\n",
       "      <td>154.610001</td>\n",
       "      <td>267.989990</td>\n",
       "      <td>296.709991</td>\n",
       "      <td>1</td>\n",
       "    </tr>\n",
       "    <tr>\n",
       "      <th>2260</th>\n",
       "      <td>person</td>\n",
       "      <td>0.67</td>\n",
       "      <td>117.910004</td>\n",
       "      <td>25.969999</td>\n",
       "      <td>405.279999</td>\n",
       "      <td>178.580002</td>\n",
       "      <td>1</td>\n",
       "    </tr>\n",
       "    <tr>\n",
       "      <th>2261</th>\n",
       "      <td>person</td>\n",
       "      <td>0.40</td>\n",
       "      <td>434.339996</td>\n",
       "      <td>326.970001</td>\n",
       "      <td>607.700012</td>\n",
       "      <td>469.480011</td>\n",
       "      <td>1</td>\n",
       "    </tr>\n",
       "    <tr>\n",
       "      <th>2262</th>\n",
       "      <td>chair</td>\n",
       "      <td>0.35</td>\n",
       "      <td>454.209991</td>\n",
       "      <td>461.209991</td>\n",
       "      <td>607.429993</td>\n",
       "      <td>596.159973</td>\n",
       "      <td>1</td>\n",
       "    </tr>\n",
       "    <tr>\n",
       "      <th>2263</th>\n",
       "      <td>person</td>\n",
       "      <td>0.32</td>\n",
       "      <td>0.120000</td>\n",
       "      <td>293.390015</td>\n",
       "      <td>93.790001</td>\n",
       "      <td>394.450012</td>\n",
       "      <td>1</td>\n",
       "    </tr>\n",
       "  </tbody>\n",
       "</table>\n",
       "</div>"
      ],
      "text/plain": [
       "     classes  score         top        left      bottom       right  label\n",
       "2259  person   0.71    0.230000  154.610001  267.989990  296.709991      1\n",
       "2260  person   0.67  117.910004   25.969999  405.279999  178.580002      1\n",
       "2261  person   0.40  434.339996  326.970001  607.700012  469.480011      1\n",
       "2262   chair   0.35  454.209991  461.209991  607.429993  596.159973      1\n",
       "2263  person   0.32    0.120000  293.390015   93.790001  394.450012      1"
      ]
     },
     "metadata": {},
     "output_type": "display_data"
    }
   ],
   "source": [
    "display(data_frame.tail())"
   ]
  },
  {
   "cell_type": "markdown",
   "metadata": {},
   "source": [
    "<img width=\"180px\" height=\"200px\" src=\"https://i.pinimg.com/originals/18/e1/11/18e1110635dc82318910603571fe4e5a.jpg\"></img>"
   ]
  }
 ],
 "metadata": {
  "kernelspec": {
   "display_name": "Python 3",
   "language": "python",
   "name": "python3"
  },
  "language_info": {
   "codemirror_mode": {
    "name": "ipython",
    "version": 3
   },
   "file_extension": ".py",
   "mimetype": "text/x-python",
   "name": "python",
   "nbconvert_exporter": "python",
   "pygments_lexer": "ipython3",
   "version": "3.11.6"
  }
 },
 "nbformat": 4,
 "nbformat_minor": 2
}
