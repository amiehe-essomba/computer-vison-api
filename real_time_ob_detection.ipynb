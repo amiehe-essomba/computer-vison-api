{
 "cells": [
  {
   "cell_type": "markdown",
   "metadata": {},
   "source": [
    "# <!-- TITLE --> __``` REAL-TIME OBJECT DETECTION ```__\n",
    "#### <!-- AUTHOR --> - Author : __Dr. Amiehe-Essomba__ (c) 2023\n"
   ]
  },
  {
   "cell_type": "code",
   "execution_count": null,
   "metadata": {},
   "outputs": [],
   "source": [
    "from demo.show_video import video \n",
    "\n",
    "video(video_path='./video/yolo_video2_pred.mp4')"
   ]
  },
  {
   "cell_type": "markdown",
   "metadata": {},
   "source": [
    "## __```This notebook is only used for video prediction```__\n",
    "\n",
    "\n",
    "> For video predictions please go [here](https://vision-api.streamlit.app/)"
   ]
  },
  {
   "cell_type": "code",
   "execution_count": 2,
   "metadata": {},
   "outputs": [],
   "source": [
    "from yolo.utils.tools import read_classes, read_anchors\n",
    "import pandas as pd \n",
    "import seaborn as sns\n",
    "from yolo.utils.tools import get_colors_for_classes\n",
    "import random\n",
    "import matplotlib.colors as mcolors\n",
    "from random import sample\n",
    "import numpy as np \n",
    "from demo.encapsulation import Wrapper \n",
    "from demo.demo import demo\n",
    "\n",
    "\n",
    "import matplotlib.pyplot as plt\n",
    "%matplotlib inline"
   ]
  },
  {
   "cell_type": "code",
   "execution_count": 3,
   "metadata": {},
   "outputs": [],
   "source": [
    "np.random.seed(3)"
   ]
  },
  {
   "cell_type": "markdown",
   "metadata": {},
   "source": [
    "#### __```Video Path```__"
   ]
  },
  {
   "cell_type": "code",
   "execution_count": 4,
   "metadata": {},
   "outputs": [],
   "source": [
    "path        = \"./video/yolo_video2.mp4\""
   ]
  },
  {
   "cell_type": "markdown",
   "metadata": {},
   "source": [
    "#### __```Reading all classes and anchors```__"
   ]
  },
  {
   "cell_type": "code",
   "execution_count": 5,
   "metadata": {},
   "outputs": [],
   "source": [
    "Class_names         = read_classes()\n",
    "anchors             = read_anchors()"
   ]
  },
  {
   "cell_type": "markdown",
   "metadata": {},
   "source": [
    "#### __```Hyper Parameters. You can change them```__"
   ]
  },
  {
   "cell_type": "code",
   "execution_count": 6,
   "metadata": {},
   "outputs": [],
   "source": [
    "classes         = []\n",
    "max_boxes       = 20\n",
    "class_names     = []\n",
    "score_threshold = 0.2\n",
    "iou_threshold   = 0.2\n",
    "response        = False\n",
    "tracking        = False\n",
    "tracker_type    = (\"bytetrack.yaml\", \"botsort.yaml\")\n",
    "segmentation    = True\n",
    "\n",
    "if segmentation is False:\n",
    "    model_name  = \"yolov8n.pt\"\n",
    "\n",
    "elif segmentation is True :\n",
    "    model_name  = 'yolov8n-seg.pt'\n",
    "\n",
    "else:\n",
    "    model_name = \"my_model\"\n"
   ]
  },
  {
   "cell_type": "markdown",
   "metadata": {},
   "source": [
    "#### __```Do not change this part of notebook.```__"
   ]
  },
  {
   "cell_type": "code",
   "execution_count": 7,
   "metadata": {},
   "outputs": [],
   "source": [
    "if class_names: pass \n",
    "else: class_names = Class_names.copy()\n",
    "\n",
    "kwargs = {\n",
    "    \"class_names\"       : Class_names, \n",
    "    \"Class_names\"       : Class_names,\n",
    "    \"max_boxes\"         : max_boxes,\n",
    "    \"score_threshold\"   : score_threshold,\n",
    "    \"iou_threshold\"     : iou_threshold,\n",
    "    \"anchors\"           : anchors\n",
    "    }"
   ]
  },
  {
   "cell_type": "markdown",
   "metadata": {},
   "source": [
    "#### __```Set color boxes. Do not change anything here```__"
   ]
  },
  {
   "cell_type": "code",
   "execution_count": 8,
   "metadata": {},
   "outputs": [],
   "source": [
    "class_names = kwargs['Class_names']\n",
    "colors_     = get_colors_for_classes(len(class_names) + 10)\n",
    "\n",
    "def f():\n",
    "    s = random.sample(range(50), 1)\n",
    "    return s[0] \n",
    "\n",
    "def g():\n",
    "    num = random.sample(range(len(colors_)), len(class_names))\n",
    "    return num \n",
    "\n",
    "colors      = {class_names[j] : colors_[i] if colors_[i] != (255, 255, 0) else colors_[j-1] for j, i in enumerate(g())}"
   ]
  },
  {
   "cell_type": "markdown",
   "metadata": {},
   "source": [
    "### __```Parameters```__"
   ]
  },
  {
   "cell_type": "code",
   "execution_count": 9,
   "metadata": {},
   "outputs": [],
   "source": [
    "model               = demo(model_name=model_name)\n",
    "model.PATH          = path \n",
    "model.colors        = colors\n",
    "model.model_name    = model_name\n",
    "model.response      = response\n",
    "model.youtube       = False \n",
    "model.save_file     = \"video_prediction.mp4\"\n",
    "\n",
    "if tracking is True:\n",
    "    model.tracker = tracker_type[0]\n",
    "\n",
    "if segmentation is True:\n",
    "    model.alpha = 30             # values in [0, 255]\n",
    "    model.only_mask = True       \n",
    "    model.mode  = \"gray\"         # value in ['gray', 'rgb']\n",
    "    model.with_names = True \n",
    "    "
   ]
  },
  {
   "cell_type": "markdown",
   "metadata": {},
   "source": [
    "### __```About Video```__"
   ]
  },
  {
   "cell_type": "code",
   "execution_count": 10,
   "metadata": {},
   "outputs": [
    {
     "name": "stdout",
     "output_type": "stream",
     "text": [
      "video details : \n",
      "\n",
      "\n",
      ">>>>>>>>>>>>>>>>>>>>>>>>>>>>>>>>>>>>\n",
      "frame per second : 30.0\n",
      "video frame : 313\n",
      "duration : 10.4333\n",
      ">>>>>>>>>>>>>>>>>>>>>>>>>>>>>>>>>>>>\n"
     ]
    }
   ],
   "source": [
    "model.get_vido_info()"
   ]
  },
  {
   "cell_type": "code",
   "execution_count": 11,
   "metadata": {},
   "outputs": [],
   "source": [
    "model.duration_in_second = 10\n",
    "model.video_step = 1\n",
    "model.video_start = 0"
   ]
  },
  {
   "cell_type": "markdown",
   "metadata": {},
   "source": [
    "### __```Prediction```__"
   ]
  },
  {
   "cell_type": "code",
   "execution_count": null,
   "metadata": {},
   "outputs": [],
   "source": [
    "model.build_model(segmentation, **kwargs)\n",
    "video(video_path=model.save_file)"
   ]
  },
  {
   "cell_type": "markdown",
   "metadata": {},
   "source": [
    "#### __```Using the dictionary generated by the prediction to see all classes include in the predicted image```__\n",
    "----"
   ]
  },
  {
   "cell_type": "code",
   "execution_count": 13,
   "metadata": {},
   "outputs": [],
   "source": [
    "df          = model.df\n",
    "data_frame  = pd.DataFrame(df)\n",
    "data_frame.rename(columns={'label':'classes'}, inplace=True)\n",
    "data_frame['count'] = [1 for i in range(len(data_frame.iloc[:, 0]))]\n"
   ]
  },
  {
   "cell_type": "code",
   "execution_count": null,
   "metadata": {},
   "outputs": [],
   "source": [
    "data_frame = data_frame.groupby('classes').sum()\n",
    "data_frame['labels'] = data_frame.index\n",
    "data_frame.reset_index(drop=True, inplace=True)\n",
    "display(data_frame)"
   ]
  },
  {
   "cell_type": "markdown",
   "metadata": {},
   "source": [
    "#### __```Classes countplot```__"
   ]
  },
  {
   "cell_type": "code",
   "execution_count": 14,
   "metadata": {},
   "outputs": [
    {
     "name": "stdout",
     "output_type": "stream",
     "text": [
      "unique classes : 11\n"
     ]
    }
   ],
   "source": [
    "# colors\n",
    "rot             = 90.\n",
    "python_colors   = np.array( list( mcolors.CSS4_COLORS.keys() ) )\n",
    "length          = len(data_frame.labels)\n",
    "indexes         = sample(range(python_colors.shape[0]), k=length)\n",
    "unique_color    = list( python_colors[indexes] )\n",
    "print(f\"unique classes : {length}\")\n"
   ]
  },
  {
   "cell_type": "code",
   "execution_count": 15,
   "metadata": {},
   "outputs": [
    {
     "data": {
      "image/png": "[encoded data removed]",
      "text/plain": [
       "<Figure size 800x400 with 1 Axes>"
      ]
     },
     "metadata": {},
     "output_type": "display_data"
    }
   ],
   "source": [
    "plt.figure(figsize=(8,4))\n",
    "plt.bar(height=list( data_frame['count'] ), x= range(length),  width=0.5, color=unique_color)\n",
    "plt.xticks(range(length), list(data_frame.labels), rotation=rot, ha=\"center\")\n",
    "plt.show()"
   ]
  },
  {
   "cell_type": "markdown",
   "metadata": {},
   "source": [
    "#### __```Data Frame details:```__\n",
    "\n",
    "* classes\n",
    "* scores\n",
    "* bonding boxes \n",
    "* encoding classses"
   ]
  },
  {
   "cell_type": "code",
   "execution_count": 16,
   "metadata": {},
   "outputs": [
    {
     "data": {
      "text/html": [
       "<div>\n",
       "<style scoped>\n",
       "    .dataframe tbody tr th:only-of-type {\n",
       "        vertical-align: middle;\n",
       "    }\n",
       "\n",
       "    .dataframe tbody tr th {\n",
       "        vertical-align: top;\n",
       "    }\n",
       "\n",
       "    .dataframe thead th {\n",
       "        text-align: right;\n",
       "    }\n",
       "</style>\n",
       "<table border=\"1\" class=\"dataframe\">\n",
       "  <thead>\n",
       "    <tr style=\"text-align: right;\">\n",
       "      <th></th>\n",
       "      <th>classes</th>\n",
       "      <th>score</th>\n",
       "      <th>top</th>\n",
       "      <th>left</th>\n",
       "      <th>bottom</th>\n",
       "      <th>right</th>\n",
       "      <th>label</th>\n",
       "    </tr>\n",
       "  </thead>\n",
       "  <tbody>\n",
       "    <tr>\n",
       "      <th>2417</th>\n",
       "      <td>person</td>\n",
       "      <td>0.64</td>\n",
       "      <td>109.790001</td>\n",
       "      <td>25.809999</td>\n",
       "      <td>400.609985</td>\n",
       "      <td>179.600006</td>\n",
       "      <td>1</td>\n",
       "    </tr>\n",
       "    <tr>\n",
       "      <th>2418</th>\n",
       "      <td>person</td>\n",
       "      <td>0.53</td>\n",
       "      <td>0.300000</td>\n",
       "      <td>155.970001</td>\n",
       "      <td>275.130005</td>\n",
       "      <td>296.369995</td>\n",
       "      <td>1</td>\n",
       "    </tr>\n",
       "    <tr>\n",
       "      <th>2419</th>\n",
       "      <td>chair</td>\n",
       "      <td>0.52</td>\n",
       "      <td>453.570007</td>\n",
       "      <td>466.339996</td>\n",
       "      <td>607.750000</td>\n",
       "      <td>596.210022</td>\n",
       "      <td>1</td>\n",
       "    </tr>\n",
       "    <tr>\n",
       "      <th>2420</th>\n",
       "      <td>person</td>\n",
       "      <td>0.46</td>\n",
       "      <td>0.140000</td>\n",
       "      <td>292.980011</td>\n",
       "      <td>91.889999</td>\n",
       "      <td>391.200012</td>\n",
       "      <td>1</td>\n",
       "    </tr>\n",
       "    <tr>\n",
       "      <th>2421</th>\n",
       "      <td>book</td>\n",
       "      <td>0.35</td>\n",
       "      <td>255.429993</td>\n",
       "      <td>100.980003</td>\n",
       "      <td>431.540009</td>\n",
       "      <td>208.220001</td>\n",
       "      <td>1</td>\n",
       "    </tr>\n",
       "  </tbody>\n",
       "</table>\n",
       "</div>"
      ],
      "text/plain": [
       "     classes  score         top        left      bottom       right  label\n",
       "2417  person   0.64  109.790001   25.809999  400.609985  179.600006      1\n",
       "2418  person   0.53    0.300000  155.970001  275.130005  296.369995      1\n",
       "2419   chair   0.52  453.570007  466.339996  607.750000  596.210022      1\n",
       "2420  person   0.46    0.140000  292.980011   91.889999  391.200012      1\n",
       "2421    book   0.35  255.429993  100.980003  431.540009  208.220001      1"
      ]
     },
     "metadata": {},
     "output_type": "display_data"
    }
   ],
   "source": [
    "display(data_frame.tail())"
   ]
  },
  {
   "cell_type": "markdown",
   "metadata": {},
   "source": [
    "<img width=\"180px\" height=\"200px\" src=\"https://i.pinimg.com/originals/18/e1/11/18e1110635dc82318910603571fe4e5a.jpg\"></img>"
   ]
  }
 ],
 "metadata": {
  "kernelspec": {
   "display_name": "Python 3",
   "language": "python",
   "name": "python3"
  },
  "language_info": {
   "codemirror_mode": {
    "name": "ipython",
    "version": 3
   },
   "file_extension": ".py",
   "mimetype": "text/x-python",
   "name": "python",
   "nbconvert_exporter": "python",
   "pygments_lexer": "ipython3",
   "version": "3.11.6"
  }
 },
 "nbformat": 4,
 "nbformat_minor": 2
}
