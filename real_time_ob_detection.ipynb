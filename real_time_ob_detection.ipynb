{
 "cells": [
  {
   "cell_type": "markdown",
   "metadata": {},
   "source": [
    "# <!-- TITLE --> __``` REAL-TIME OBJECT DETECTION ```__\n",
    "#### <!-- AUTHOR --> - Author : __Dr. Amiehe-Essomba__ (c) 2023\n"
   ]
  },
  {
   "cell_type": "code",
   "execution_count": null,
   "metadata": {},
   "outputs": [],
   "source": [
    "from demo.show_video import video \n",
    "\n",
    "video(video_path='./video/yolo_video2_pred.mp4')"
   ]
  },
  {
   "cell_type": "markdown",
   "metadata": {},
   "source": [
    "## __```This notebook is only used for video prediction```__\n",
    "\n",
    "\n",
    "> For video predictions please go [here](https://vision-api.streamlit.app/)"
   ]
  },
  {
   "cell_type": "code",
   "execution_count": null,
   "metadata": {},
   "outputs": [],
   "source": [
    "from yolo.utils.tools import read_classes, read_anchors\n",
    "import pandas as pd \n",
    "import seaborn as sns\n",
    "from yolo.utils.tools import get_colors_for_classes\n",
    "import random\n",
    "import matplotlib.colors as mcolors\n",
    "from random import sample\n",
    "import numpy as np \n",
    "from demo.encapsulation import Wrapper \n",
    "from demo.demo import demo\n",
    "\n",
    "\n",
    "import matplotlib.pyplot as plt\n",
    "%matplotlib inline"
   ]
  },
  {
   "cell_type": "code",
   "execution_count": null,
   "metadata": {},
   "outputs": [],
   "source": [
    "np.random.seed(3)"
   ]
  },
  {
   "cell_type": "markdown",
   "metadata": {},
   "source": [
    "#### __```Video Path```__"
   ]
  },
  {
   "cell_type": "code",
   "execution_count": null,
   "metadata": {},
   "outputs": [],
   "source": [
    "path        = \"./video/yolo_video2.mp4\""
   ]
  },
  {
   "cell_type": "markdown",
   "metadata": {},
   "source": [
    "#### __```Reading all classes and anchors```__"
   ]
  },
  {
   "cell_type": "code",
   "execution_count": null,
   "metadata": {},
   "outputs": [],
   "source": [
    "Class_names         = read_classes()\n",
    "anchors             = read_anchors()"
   ]
  },
  {
   "cell_type": "markdown",
   "metadata": {},
   "source": [
    "#### __```Hyper Parameters. You can change them```__"
   ]
  },
  {
   "cell_type": "code",
   "execution_count": null,
   "metadata": {},
   "outputs": [],
   "source": [
    "classes         = []\n",
    "max_boxes       = 10\n",
    "class_names     = []\n",
    "score_threshold = 0.2\n",
    "iou_threshold   = 0.2\n",
    "response        = False # show score\n",
    "tracking        = False\n",
    "tracker_type    = (\"bytetrack.yaml\", \"botsort.yaml\")\n",
    "segmentation    = True\n",
    "\n",
    "if segmentation is False:\n",
    "    model_name  = \"yolov8n.pt\"\n",
    "\n",
    "elif segmentation is True :\n",
    "    model_name  = 'yolov8n-seg.pt'\n",
    "\n",
    "elif segmentation is None:\n",
    "    model_name = \"license_plate_detector.pt\"\n",
    "else:\n",
    "    model_name = \"my_model\"\n"
   ]
  },
  {
   "cell_type": "markdown",
   "metadata": {},
   "source": [
    "#### __```Do not change this part of notebook.```__"
   ]
  },
  {
   "cell_type": "code",
   "execution_count": null,
   "metadata": {},
   "outputs": [],
   "source": [
    "if class_names: pass \n",
    "else: class_names = Class_names.copy()\n",
    "\n",
    "kwargs = {\n",
    "    \"class_names\"       : Class_names, \n",
    "    \"Class_names\"       : Class_names,\n",
    "    \"max_boxes\"         : max_boxes,\n",
    "    \"score_threshold\"   : score_threshold,\n",
    "    \"iou_threshold\"     : iou_threshold,\n",
    "    \"anchors\"           : anchors\n",
    "    }"
   ]
  },
  {
   "cell_type": "markdown",
   "metadata": {},
   "source": [
    "#### __```Set color boxes. Do not change anything here```__"
   ]
  },
  {
   "cell_type": "code",
   "execution_count": null,
   "metadata": {},
   "outputs": [],
   "source": [
    "class_names = kwargs['Class_names']\n",
    "colors_     = get_colors_for_classes(len(class_names) + 10)\n",
    "\n",
    "def f():\n",
    "    s = random.sample(range(50), 1)\n",
    "    return s[0] \n",
    "\n",
    "def g():\n",
    "    num = random.sample(range(len(colors_)), len(class_names))\n",
    "    return num \n",
    "\n",
    "colors      = {class_names[j] : colors_[i] if colors_[i] != (255, 255, 0) else colors_[j-1] for j, i in enumerate(g())}"
   ]
  },
  {
   "cell_type": "code",
   "execution_count": null,
   "metadata": {},
   "outputs": [],
   "source": [
    "def scaling(image = None, shape = (608, 608), boxes = None, S = None):\n",
    "    # Mettez à l'échelle l'image\n",
    "    scaled_image    = image.resize(shape)\n",
    "    new_width       = shape[0]\n",
    "    new_height      = shape[1]\n",
    "    # Mettez à l'échelle les boîtes englobantes\n",
    "    scaling_factor_x = new_width / S[0]\n",
    "    scaling_factor_y = new_height / S[1]\n",
    "\n",
    "    scaled_boxes = []\n",
    "    for box in boxes:\n",
    "        x_min, y_min, x_max, y_max = box\n",
    "        scaled_x_min = int(x_min * scaling_factor_x)\n",
    "        scaled_y_min = int(y_min * scaling_factor_y)\n",
    "        scaled_x_max = int(x_max * scaling_factor_x)\n",
    "        scaled_y_max = int(y_max * scaling_factor_y)\n",
    "        scaled_boxes.append([scaled_x_min, scaled_y_min, scaled_x_max, scaled_y_max])\n",
    "\n",
    "    return scaled_boxes, scaled_image"
   ]
  },
  {
   "cell_type": "markdown",
   "metadata": {},
   "source": [
    "### __```Parameters```__"
   ]
  },
  {
   "cell_type": "code",
   "execution_count": null,
   "metadata": {},
   "outputs": [],
   "source": [
    "model               = demo(model_name=model_name)\n",
    "model.PATH          = path \n",
    "model.colors        = colors\n",
    "model.model_name    = model_name\n",
    "model.response      = response\n",
    "model.youtube       = False \n",
    "model.save_file     = \"video_prediction.mp4\"\n",
    "model.rescaling     = scaling\n",
    "\n",
    "if tracking is True:\n",
    "    model.tracker = tracker_type[0]\n",
    "\n",
    "if segmentation is True:\n",
    "    model.alpha = 30             # values in [0, 255]\n",
    "    model.only_mask = True       \n",
    "    model.mode  = \"rgb\"         # value in ['gray', 'rgb']\n",
    "    model.with_names = True \n",
    "    "
   ]
  },
  {
   "cell_type": "markdown",
   "metadata": {},
   "source": [
    "### __```About Video```__"
   ]
  },
  {
   "cell_type": "code",
   "execution_count": null,
   "metadata": {},
   "outputs": [],
   "source": [
    "model.get_vido_info()"
   ]
  },
  {
   "cell_type": "code",
   "execution_count": null,
   "metadata": {},
   "outputs": [],
   "source": [
    "model.duration_in_second = 10\n",
    "model.video_step = 1\n",
    "model.video_start = 0"
   ]
  },
  {
   "cell_type": "markdown",
   "metadata": {},
   "source": [
    "### __```Prediction```__"
   ]
  },
  {
   "cell_type": "code",
   "execution_count": null,
   "metadata": {},
   "outputs": [],
   "source": [
    "model.build_model(segmentation, **kwargs)"
   ]
  },
  {
   "cell_type": "markdown",
   "metadata": {},
   "source": [
    "#### __```Using the dictionary generated by the prediction to see all classes include in the predicted image```__\n",
    "----"
   ]
  },
  {
   "cell_type": "code",
   "execution_count": null,
   "metadata": {},
   "outputs": [],
   "source": [
    "video(video_path=model.save_file)"
   ]
  },
  {
   "cell_type": "code",
   "execution_count": null,
   "metadata": {},
   "outputs": [],
   "source": [
    "df          = model.df\n",
    "data_frame  = pd.DataFrame(df)\n",
    "data_frame.rename(columns={'label':'classes'}, inplace=True)\n",
    "data_frame['count'] = [1 for i in range(len(data_frame.iloc[:, 0]))]\n"
   ]
  },
  {
   "cell_type": "code",
   "execution_count": null,
   "metadata": {},
   "outputs": [],
   "source": [
    "data_frame = data_frame.groupby('classes').sum()\n",
    "data_frame['labels'] = data_frame.index\n",
    "data_frame.reset_index(drop=True, inplace=True)\n",
    "display(data_frame)"
   ]
  },
  {
   "cell_type": "markdown",
   "metadata": {},
   "source": [
    "#### __```Classes countplot```__"
   ]
  },
  {
   "cell_type": "code",
   "execution_count": null,
   "metadata": {},
   "outputs": [],
   "source": [
    "# colors\n",
    "rot             = 90.\n",
    "python_colors   = np.array( list( mcolors.CSS4_COLORS.keys() ) )\n",
    "length          = len(data_frame.labels)\n",
    "indexes         = sample(range(python_colors.shape[0]), k=length)\n",
    "unique_color    = list( python_colors[indexes] )\n",
    "print(f\"unique classes : {length}\")\n"
   ]
  },
  {
   "cell_type": "code",
   "execution_count": null,
   "metadata": {},
   "outputs": [],
   "source": [
    "plt.figure(figsize=(8,4))\n",
    "plt.bar(height=list( data_frame['count'] ), x= range(length),  width=0.5, color=unique_color)\n",
    "plt.xticks(range(length), list(data_frame.labels), rotation=rot, ha=\"center\")\n",
    "plt.show()"
   ]
  },
  {
   "cell_type": "markdown",
   "metadata": {},
   "source": [
    "#### __```Data Frame details:```__\n",
    "\n",
    "* classes\n",
    "* scores\n",
    "* bonding boxes \n",
    "* encoding classses"
   ]
  },
  {
   "cell_type": "code",
   "execution_count": null,
   "metadata": {},
   "outputs": [],
   "source": [
    "display(data_frame.tail())"
   ]
  },
  {
   "cell_type": "code",
   "execution_count": null,
   "metadata": {},
   "outputs": [],
   "source": [
    "import numpy as np\n",
    "import cv2\n",
    "\n",
    "# Création d'une image noire\n",
    "height, width = 300, 400\n",
    "image = np.zeros((height, width, 3), dtype=np.uint8)\n",
    "\n",
    "# Définir les quatre points du quadrilatère\n",
    "points = np.array([[50, 50], [150, 50], [200, 150], [100, 150]], np.int32)\n",
    "points = points.reshape((-1, 1, 2))\n",
    "\n",
    "# Tracer les lignes du quadrilatère (ne remplit pas encore)\n",
    "cv2.polylines(image, [points], isClosed=True, color=(255, 255, 255), thickness=2)\n",
    "\n",
    "# Remplir la région intérieure du quadrilatère\n",
    "cv2.fillPoly(image, [points], color=(0, 255, 0))\n",
    "plt.imshow(image)"
   ]
  },
  {
   "cell_type": "markdown",
   "metadata": {},
   "source": [
    "<img width=\"180px\" height=\"200px\" src=\"https://i.pinimg.com/originals/18/e1/11/18e1110635dc82318910603571fe4e5a.jpg\"></img>"
   ]
  }
 ],
 "metadata": {
  "kernelspec": {
   "display_name": "Python 3",
   "language": "python",
   "name": "python3"
  },
  "language_info": {
   "codemirror_mode": {
    "name": "ipython",
    "version": 3
   },
   "file_extension": ".py",
   "mimetype": "text/x-python",
   "name": "python",
   "nbconvert_exporter": "python",
   "pygments_lexer": "ipython3",
   "version": "3.11.7"
  }
 },
 "nbformat": 4,
 "nbformat_minor": 2
}
