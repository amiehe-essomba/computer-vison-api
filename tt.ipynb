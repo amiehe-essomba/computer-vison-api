{
 "cells": [
  {
   "cell_type": "code",
   "execution_count": 7,
   "metadata": {},
   "outputs": [],
   "source": [
    "from PIL import Image, ImageDraw\n",
    "\n",
    "# Charger l'image\n",
    "image = Image.new('RGB', (600, 600), (0, 0, 0))\n",
    "draw = ImageDraw.Draw(image)\n",
    "\n",
    "\n",
    "# Supposons que points soit une liste de coordonnées (x, y) des points que vous souhaitez dessiner\n",
    "points = [(100, 200), (150, 250), (200, 300), (100, 50), (25, 90)]\n",
    "\n",
    "# Augmenter la taille des points en spécifiant un rayon plus grand\n",
    "point_radius = 5  # Changer la taille des points en ajustant ce rayon\n",
    "\n",
    "# Dessiner des points\n",
    "for point in points:\n",
    "    x, y = point\n",
    "    draw.ellipse((x - point_radius, y - point_radius, x + point_radius, y + point_radius), fill=(255, 0, 0))\n",
    "    # L'utilisation de la méthode ellipse pour dessiner un cercle centré sur le point\n",
    "\n",
    "# Relier les points par des lignes\n",
    "for i in range(len(points) - 1):\n",
    "    draw.line([points[i], points[i + 1]], fill=(0, 0, 255), width=4)  # Dessinez une ligne bleue entre les points\n",
    "\n",
    "# Relier le dernier point au premier point pour former une boucle\n",
    "#draw.line([points[-1], points[0]], fill=(0, 0, 255), width=2)\n",
    "\n",
    "# Afficher l'image ou la sauvegarder\n",
    "image.show()  # Afficher l'image"
   ]
  },
  {
   "cell_type": "code",
   "execution_count": 9,
   "metadata": {},
   "outputs": [],
   "source": [
    "from PIL import Image, ImageDraw\n",
    "\n",
    "# Charger l'image\n",
    "image = Image.new('RGB', (600, 600), (0, 0, 0))\n",
    "draw = ImageDraw.Draw(image)\n",
    "\n",
    "# Supposons que keypoints soit une liste de coordonnées (x, y) des points clés que vous souhaitez dessiner et relier\n",
    "keypoints = [(x1, y1), (x2, y2), (x3, y3), ...]\n",
    "\n",
    "# Déterminez les paires de points clés à relier (par exemple, pour la pose du corps humain)\n",
    "connections = [(0, 1), (1, 2), (2, 3), ...]\n",
    "\n",
    "# Relier les points clés\n",
    "for connection in connections:\n",
    "    start_point = keypoints[connection[0]]\n",
    "    end_point = keypoints[connection[1]]\n",
    "    draw.line([start_point, end_point], fill=(0, 0, 255), width=2)  # Dessinez une ligne bleue entre les points\n",
    "\n",
    "# Afficher l'image ou la sauvegarder\n",
    "image.show()  # Afficher l'image\n",
    "# image.save(\"resultat.jpg\")  # Sauvegarder l'image avec les points clés reliés\n",
    "\n"
   ]
  },
  {
   "cell_type": "code",
   "execution_count": null,
   "metadata": {},
   "outputs": [],
   "source": []
  }
 ],
 "metadata": {
  "kernelspec": {
   "display_name": "Python 3",
   "language": "python",
   "name": "python3"
  },
  "language_info": {
   "codemirror_mode": {
    "name": "ipython",
    "version": 3
   },
   "file_extension": ".py",
   "mimetype": "text/x-python",
   "name": "python",
   "nbconvert_exporter": "python",
   "pygments_lexer": "ipython3",
   "version": "3.11.6"
  }
 },
 "nbformat": 4,
 "nbformat_minor": 2
}
